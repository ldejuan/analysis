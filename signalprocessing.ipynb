{
 "cells": [
  {
   "cell_type": "code",
   "execution_count": 2,
   "id": "b0ad0928-4236-4a4f-aa28-c272efd4bbc7",
   "metadata": {},
   "outputs": [],
   "source": [
    "import numpy as np"
   ]
  },
  {
   "cell_type": "code",
   "execution_count": 3,
   "id": "350006b4-0d50-4f84-a7a4-ba4183c47cb7",
   "metadata": {},
   "outputs": [],
   "source": [
    "import scipy.signal as  sg"
   ]
  },
  {
   "cell_type": "code",
   "execution_count": 19,
   "id": "4779d286-4659-4457-a31c-b0c539bde150",
   "metadata": {},
   "outputs": [
    {
     "data": {
      "text/plain": [
       "(array([0.4, 0.4]), array([ 1. , -0.6]))"
      ]
     },
     "execution_count": 19,
     "metadata": {},
     "output_type": "execute_result"
    }
   ],
   "source": [
    "b=[1.]\n",
    "a=[1.,0.5]\n",
    "sg.bilinear(b,a,fs=1)"
   ]
  },
  {
   "cell_type": "code",
   "execution_count": 6,
   "id": "a9ee9b46-bccf-4b2f-9854-b32cb8b7495a",
   "metadata": {},
   "outputs": [
    {
     "ename": "ModuleNotFoundError",
     "evalue": "No module named 'matplotlib'",
     "output_type": "error",
     "traceback": [
      "\u001b[0;31m---------------------------------------------------------------------------\u001b[0m",
      "\u001b[0;31mModuleNotFoundError\u001b[0m                       Traceback (most recent call last)",
      "Cell \u001b[0;32mIn [6], line 4\u001b[0m\n\u001b[1;32m      2\u001b[0m \u001b[38;5;28;01mimport\u001b[39;00m \u001b[38;5;21;01mnumpy\u001b[39;00m \u001b[38;5;28;01mas\u001b[39;00m \u001b[38;5;21;01mnp\u001b[39;00m\n\u001b[1;32m      3\u001b[0m \u001b[38;5;28;01mimport\u001b[39;00m \u001b[38;5;21;01mscipy\u001b[39;00m\u001b[38;5;21;01m.\u001b[39;00m\u001b[38;5;21;01msignal\u001b[39;00m \u001b[38;5;28;01mas\u001b[39;00m \u001b[38;5;21;01msignal\u001b[39;00m\n\u001b[0;32m----> 4\u001b[0m \u001b[38;5;28;01mimport\u001b[39;00m \u001b[38;5;21;01mmatplotlib\u001b[39;00m\u001b[38;5;21;01m.\u001b[39;00m\u001b[38;5;21;01mpyplot\u001b[39;00m \u001b[38;5;28;01mas\u001b[39;00m \u001b[38;5;21;01mplt\u001b[39;00m\n\u001b[1;32m      6\u001b[0m \u001b[38;5;66;03m# Given specification\u001b[39;00m\n\u001b[1;32m      7\u001b[0m N \u001b[38;5;241m=\u001b[39m \u001b[38;5;241m2\u001b[39m \u001b[38;5;66;03m# Order of the filter\u001b[39;00m\n",
      "\u001b[0;31mModuleNotFoundError\u001b[0m: No module named 'matplotlib'"
     ]
    }
   ],
   "source": [
    "# import required library\n",
    "import numpy as np\n",
    "import scipy.signal as signal\n",
    "import matplotlib.pyplot as plt\n",
    "\n",
    "# Given specification\n",
    "N = 2 # Order of the filter\n",
    "Fs = 8000 # Sampling frequency in Hz\n",
    "fc = 3400 # Cut-off frequency in Hz\n",
    "\n",
    "# Compute Design Sampling parameter\n",
    "Td = 1/Fs\n",
    "\n",
    "# Compute cut-off frequency in radian/sec\n",
    "wd = 2*np.pi*fc\n",
    "print(wd) # Cut-off frequency in radian/sec\n",
    "\n",
    "# Prewarp the analog frequency\n",
    "wc = (2/Td)*np.tan(wd*Td/2)\n",
    "print('Order of the filter=', N) # Order\n",
    "\n",
    "# Prewarped analog cut-off frequency\n",
    "print('Cut-off frequency (in rad/s)=', wc)\n",
    "\n",
    "# Design analog Butterworth filter using signal.butter function\n",
    "b, a = signal.butter(N, wc, 'low', analog='True')\n",
    "\n",
    "# Perform bilinear Transformation\n",
    "z, p = signal.bilinear(b, a, fs=Fs)\n",
    "\n",
    "# Print numerator and denomerator coefficients of the filter\n",
    "print('Numerator Coefficients:', z)\n",
    "print('Denominator Coefficients:', p)\n",
    "\n",
    "# Compute frequency response of the filter using signal.freqz function\n",
    "wz, hz = signal.freqz(z, p, 512)\n",
    "\n",
    "# Plot filter magnitude and phase responses using subplot.\n",
    "#Convert digital frequency wz into analog frequency in Hz\n",
    "fig = plt.figure(figsize=(10, 8))\n",
    "\n",
    "# Calculate Magnitude from hz in dB\n",
    "Mag = 20*np.log10(abs(hz))\n",
    "\n",
    "# Calculate frequency in Hz from wz\n",
    "Freq = wz*Fs/(2*np.pi)\n",
    "\n",
    "# Plot Magnitude response\n",
    "sub1 = plt.subplot(2, 1, 1)\n",
    "sub1.plot(Freq, Mag, 'r', linewidth=2)\n",
    "sub1.axis([1, Fs/2, -60, 5])\n",
    "sub1.set_title('Magnitude Response', fontsize=15)\n",
    "sub1.set_xlabel('Frequency [Hz]', fontsize=15)\n",
    "sub1.set_ylabel('Magnitude [dB]', fontsize=15)\n",
    "sub1.grid()\n",
    "\n",
    "# Plot phase angle\n",
    "sub2 = plt.subplot(2, 1, 2)\n",
    "\n",
    "# Calculate phase angle in degree from hz\n",
    "Phase = np.unwrap(np.angle(hz))*180/np.pi\n",
    "sub2.plot(Freq, Phase, 'g', linewidth=2)\n",
    "sub2.set_ylabel('Phase (degree)', fontsize=15)\n",
    "sub2.set_xlabel(r'Frequency (Hz)', fontsize=15)\n",
    "sub2.set_title(r'Phase response', fontsize=15)\n",
    "sub2.grid()\n",
    "\n",
    "plt.subplots_adjust(hspace=0.5)\n",
    "fig.tight_layout()\n",
    "plt.show()\n"
   ]
  },
  {
   "cell_type": "code",
   "execution_count": 45,
   "id": "4ce69307-444c-4bfe-abf1-1f67876f7b4e",
   "metadata": {},
   "outputs": [
    {
     "data": {
      "text/plain": [
       "(array([2.77179327]), array([1.        , 3.41749412, 4.86636086, 2.77179327]))"
      ]
     },
     "execution_count": 45,
     "metadata": {},
     "output_type": "execute_result"
    }
   ],
   "source": [
    "# Bessel filter coefficients\n",
    "N=3\n",
    "Wn=1\n",
    "sg.bessel(N, Wn, btype='low', analog=True, output='ba', norm='mag', fs=None)"
   ]
  },
  {
   "cell_type": "code",
   "execution_count": 23,
   "id": "ffed903a-fa12-44cd-97be-7260b5a083bb",
   "metadata": {},
   "outputs": [
    {
     "data": {
      "text/plain": [
       "(array([2. , 1. , 0.5]), array([1. , 0.5]))"
      ]
     },
     "execution_count": 23,
     "metadata": {},
     "output_type": "execute_result"
    }
   ],
   "source": [
    "b=[1,1]\n",
    "a=[1,1,1]\n",
    "sg.lp2lp(a,b,0.5)"
   ]
  },
  {
   "cell_type": "code",
   "execution_count": 46,
   "id": "54b6ad69-5f9d-4806-8fa8-dfc959177e69",
   "metadata": {},
   "outputs": [
    {
     "data": {
      "text/plain": [
       "0.36088054853843377"
      ]
     },
     "execution_count": 46,
     "metadata": {},
     "output_type": "execute_result"
    }
   ],
   "source": [
    "1./2.771"
   ]
  },
  {
   "cell_type": "code",
   "execution_count": null,
   "id": "a1092a58-22b3-494c-8202-7cfc0835f930",
   "metadata": {},
   "outputs": [],
   "source": []
  }
 ],
 "metadata": {
  "kernelspec": {
   "display_name": "Python 3 (ipykernel)",
   "language": "python",
   "name": "python3"
  },
  "language_info": {
   "codemirror_mode": {
    "name": "ipython",
    "version": 3
   },
   "file_extension": ".py",
   "mimetype": "text/x-python",
   "name": "python",
   "nbconvert_exporter": "python",
   "pygments_lexer": "ipython3",
   "version": "3.9.15"
  }
 },
 "nbformat": 4,
 "nbformat_minor": 5
}
